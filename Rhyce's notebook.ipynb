{
 "cells": [
  {
   "cell_type": "code",
   "execution_count": 1,
   "metadata": {},
   "outputs": [],
   "source": [
    "import pandas as pd\n",
    "import numpy as np\n",
    "import matplotlib.pyplot as plt\n",
    "from scipy.stats import linregress"
   ]
  },
  {
   "cell_type": "code",
   "execution_count": 2,
   "metadata": {},
   "outputs": [
    {
     "data": {
      "text/html": [
       "<div>\n",
       "<style scoped>\n",
       "    .dataframe tbody tr th:only-of-type {\n",
       "        vertical-align: middle;\n",
       "    }\n",
       "\n",
       "    .dataframe tbody tr th {\n",
       "        vertical-align: top;\n",
       "    }\n",
       "\n",
       "    .dataframe thead th {\n",
       "        text-align: right;\n",
       "    }\n",
       "</style>\n",
       "<table border=\"1\" class=\"dataframe\">\n",
       "  <thead>\n",
       "    <tr style=\"text-align: right;\">\n",
       "      <th></th>\n",
       "      <th>Unnamed: 0</th>\n",
       "      <th>State</th>\n",
       "      <th>Abv</th>\n",
       "      <th>Date</th>\n",
       "      <th>Tested</th>\n",
       "      <th>Positive</th>\n",
       "      <th>Deaths</th>\n",
       "      <th>Mortality Rate</th>\n",
       "      <th>Happiness Rank</th>\n",
       "      <th>totalScore</th>\n",
       "      <th>Emotional/Physical Rank</th>\n",
       "      <th>Work Enviroment Rank</th>\n",
       "      <th>Community Enviroment Rank</th>\n",
       "    </tr>\n",
       "  </thead>\n",
       "  <tbody>\n",
       "    <tr>\n",
       "      <th>0</th>\n",
       "      <td>0</td>\n",
       "      <td>Alaska</td>\n",
       "      <td>AK</td>\n",
       "      <td>2020-07-25 07:10:21</td>\n",
       "      <td>200572.0</td>\n",
       "      <td>1693.0</td>\n",
       "      <td>19.0</td>\n",
       "      <td>1.122268</td>\n",
       "      <td>47</td>\n",
       "      <td>38.21</td>\n",
       "      <td>33</td>\n",
       "      <td>49</td>\n",
       "      <td>50</td>\n",
       "    </tr>\n",
       "    <tr>\n",
       "      <th>1</th>\n",
       "      <td>1</td>\n",
       "      <td>Alabama</td>\n",
       "      <td>AL</td>\n",
       "      <td>2020-07-25 07:10:21</td>\n",
       "      <td>627344.0</td>\n",
       "      <td>74365.0</td>\n",
       "      <td>1395.0</td>\n",
       "      <td>1.875882</td>\n",
       "      <td>45</td>\n",
       "      <td>39.35</td>\n",
       "      <td>46</td>\n",
       "      <td>39</td>\n",
       "      <td>43</td>\n",
       "    </tr>\n",
       "    <tr>\n",
       "      <th>2</th>\n",
       "      <td>2</td>\n",
       "      <td>Arkansas</td>\n",
       "      <td>AR</td>\n",
       "      <td>2020-07-22 05:16:54</td>\n",
       "      <td>439635.0</td>\n",
       "      <td>34655.0</td>\n",
       "      <td>374.0</td>\n",
       "      <td>1.079209</td>\n",
       "      <td>49</td>\n",
       "      <td>36.61</td>\n",
       "      <td>50</td>\n",
       "      <td>29</td>\n",
       "      <td>23</td>\n",
       "    </tr>\n",
       "    <tr>\n",
       "      <th>3</th>\n",
       "      <td>3</td>\n",
       "      <td>Arizona</td>\n",
       "      <td>AZ</td>\n",
       "      <td>2020-07-25 07:23:41</td>\n",
       "      <td>1053832.0</td>\n",
       "      <td>156301.0</td>\n",
       "      <td>3142.0</td>\n",
       "      <td>2.010224</td>\n",
       "      <td>21</td>\n",
       "      <td>52.92</td>\n",
       "      <td>27</td>\n",
       "      <td>12</td>\n",
       "      <td>34</td>\n",
       "    </tr>\n",
       "    <tr>\n",
       "      <th>4</th>\n",
       "      <td>4</td>\n",
       "      <td>California</td>\n",
       "      <td>CA</td>\n",
       "      <td>2020-07-25 07:23:41</td>\n",
       "      <td>6915876.0</td>\n",
       "      <td>435334.0</td>\n",
       "      <td>8186.0</td>\n",
       "      <td>1.880395</td>\n",
       "      <td>5</td>\n",
       "      <td>63.14</td>\n",
       "      <td>4</td>\n",
       "      <td>24</td>\n",
       "      <td>12</td>\n",
       "    </tr>\n",
       "  </tbody>\n",
       "</table>\n",
       "</div>"
      ],
      "text/plain": [
       "   Unnamed: 0       State Abv                 Date     Tested  Positive  \\\n",
       "0           0      Alaska  AK  2020-07-25 07:10:21   200572.0    1693.0   \n",
       "1           1     Alabama  AL  2020-07-25 07:10:21   627344.0   74365.0   \n",
       "2           2    Arkansas  AR  2020-07-22 05:16:54   439635.0   34655.0   \n",
       "3           3     Arizona  AZ  2020-07-25 07:23:41  1053832.0  156301.0   \n",
       "4           4  California  CA  2020-07-25 07:23:41  6915876.0  435334.0   \n",
       "\n",
       "   Deaths  Mortality Rate  Happiness Rank  totalScore  \\\n",
       "0    19.0        1.122268              47       38.21   \n",
       "1  1395.0        1.875882              45       39.35   \n",
       "2   374.0        1.079209              49       36.61   \n",
       "3  3142.0        2.010224              21       52.92   \n",
       "4  8186.0        1.880395               5       63.14   \n",
       "\n",
       "   Emotional/Physical Rank  Work Enviroment Rank  Community Enviroment Rank  \n",
       "0                       33                    49                         50  \n",
       "1                       46                    39                         43  \n",
       "2                       50                    29                         23  \n",
       "3                       27                    12                         34  \n",
       "4                        4                    24                         12  "
      ]
     },
     "execution_count": 2,
     "metadata": {},
     "output_type": "execute_result"
    }
   ],
   "source": [
    "master_data = pd.read_csv(\"Resources/MasterData200725.csv\")\n",
    "master_data.head()"
   ]
  },
  {
   "cell_type": "code",
   "execution_count": 10,
   "metadata": {},
   "outputs": [
    {
     "data": {
      "text/html": [
       "<div>\n",
       "<style scoped>\n",
       "    .dataframe tbody tr th:only-of-type {\n",
       "        vertical-align: middle;\n",
       "    }\n",
       "\n",
       "    .dataframe tbody tr th {\n",
       "        vertical-align: top;\n",
       "    }\n",
       "\n",
       "    .dataframe thead th {\n",
       "        text-align: right;\n",
       "    }\n",
       "</style>\n",
       "<table border=\"1\" class=\"dataframe\">\n",
       "  <thead>\n",
       "    <tr style=\"text-align: right;\">\n",
       "      <th></th>\n",
       "      <th>Mortality Rate</th>\n",
       "      <th>Community Enviroment Rank</th>\n",
       "    </tr>\n",
       "  </thead>\n",
       "  <tbody>\n",
       "    <tr>\n",
       "      <th>0</th>\n",
       "      <td>1.122268</td>\n",
       "      <td>50</td>\n",
       "    </tr>\n",
       "    <tr>\n",
       "      <th>1</th>\n",
       "      <td>1.875882</td>\n",
       "      <td>43</td>\n",
       "    </tr>\n",
       "    <tr>\n",
       "      <th>2</th>\n",
       "      <td>1.079209</td>\n",
       "      <td>23</td>\n",
       "    </tr>\n",
       "    <tr>\n",
       "      <th>3</th>\n",
       "      <td>2.010224</td>\n",
       "      <td>34</td>\n",
       "    </tr>\n",
       "    <tr>\n",
       "      <th>4</th>\n",
       "      <td>1.880395</td>\n",
       "      <td>12</td>\n",
       "    </tr>\n",
       "  </tbody>\n",
       "</table>\n",
       "</div>"
      ],
      "text/plain": [
       "   Mortality Rate  Community Enviroment Rank\n",
       "0        1.122268                         50\n",
       "1        1.875882                         43\n",
       "2        1.079209                         23\n",
       "3        2.010224                         34\n",
       "4        1.880395                         12"
      ]
     },
     "execution_count": 10,
     "metadata": {},
     "output_type": "execute_result"
    }
   ],
   "source": [
    "comm_covid_df = master_data[[\"Mortality Rate\", \"Community Enviroment Rank\"]]\n",
    "comm_covid_df.head()"
   ]
  },
  {
   "cell_type": "code",
   "execution_count": 11,
   "metadata": {},
   "outputs": [],
   "source": [
    "def regression_func(x, y, color, xlabel='', ylabel='', title='') :\n",
    "    plot = plt.scatter(x, y, c= color)\n",
    "    \n",
    "    (slope, intercept, rvalue, pvalue, stderr) =  linregress(x, y)\n",
    "\n",
    "    regress_values = (x * slope) + intercept\n",
    "    line_eq = \"y = \" + str(round(slope,2)) + \"x + \" + str(round(intercept,2))\n",
    "    \n",
    "    plt.plot(x, regress_values, \"r-\")\n",
    "    plt.annotate(line_eq, (min(x)+5, min(y)+5), fontsize=15, color=\"black\")\n",
    "    \n",
    "    plt.title(title)\n",
    "    plt.xlabel(xlabel)\n",
    "    plt.ylabel(ylabel)\n",
    "    \n",
    "    plt.show()"
   ]
  },
  {
   "cell_type": "code",
   "execution_count": 12,
   "metadata": {},
   "outputs": [
    {
     "data": {
      "image/png": "[encoded data removed]",
      "text/plain": [
       "<Figure size 432x288 with 1 Axes>"
      ]
     },
     "metadata": {
      "needs_background": "light"
     },
     "output_type": "display_data"
    }
   ],
   "source": [
    "regression_func(comm_covid_df[\"Community Enviroment Rank\"],\n",
    "                comm_covid_df[\"Mortality Rate\"], \"blue\", \"State Ranking by Comm/Env. Happiness\", \n",
    "                              \"State Mortality Rate %\", \n",
    "                              \"State Covid Mortality as a Function of Community & Environment Ranking\")"
   ]
  },
  {
   "cell_type": "code",
   "execution_count": 14,
   "metadata": {},
   "outputs": [
    {
     "data": {
      "text/html": [
       "<div>\n",
       "<style scoped>\n",
       "    .dataframe tbody tr th:only-of-type {\n",
       "        vertical-align: middle;\n",
       "    }\n",
       "\n",
       "    .dataframe tbody tr th {\n",
       "        vertical-align: top;\n",
       "    }\n",
       "\n",
       "    .dataframe thead th {\n",
       "        text-align: right;\n",
       "    }\n",
       "</style>\n",
       "<table border=\"1\" class=\"dataframe\">\n",
       "  <thead>\n",
       "    <tr style=\"text-align: right;\">\n",
       "      <th></th>\n",
       "      <th>Mortality Rate</th>\n",
       "      <th>Community Enviroment Rank</th>\n",
       "    </tr>\n",
       "  </thead>\n",
       "  <tbody>\n",
       "    <tr>\n",
       "      <th>12</th>\n",
       "      <td>0.834106</td>\n",
       "      <td>1</td>\n",
       "    </tr>\n",
       "    <tr>\n",
       "      <th>43</th>\n",
       "      <td>0.716897</td>\n",
       "      <td>2</td>\n",
       "    </tr>\n",
       "    <tr>\n",
       "      <th>32</th>\n",
       "      <td>1.801322</td>\n",
       "      <td>3</td>\n",
       "    </tr>\n",
       "    <tr>\n",
       "      <th>10</th>\n",
       "      <td>1.692525</td>\n",
       "      <td>4</td>\n",
       "    </tr>\n",
       "    <tr>\n",
       "      <th>19</th>\n",
       "      <td>4.185114</td>\n",
       "      <td>5</td>\n",
       "    </tr>\n",
       "  </tbody>\n",
       "</table>\n",
       "</div>"
      ],
      "text/plain": [
       "    Mortality Rate  Community Enviroment Rank\n",
       "12        0.834106                          1\n",
       "43        0.716897                          2\n",
       "32        1.801322                          3\n",
       "10        1.692525                          4\n",
       "19        4.185114                          5"
      ]
     },
     "execution_count": 14,
     "metadata": {},
     "output_type": "execute_result"
    }
   ],
   "source": [
    "#Partition into \"buckets\"\n",
    "comm_covid_sorted_df = comm_covid_df.sort_values(by = \"Community Enviroment Rank\")\n",
    "comm_covid_sorted_df.head()"
   ]
  },
  {
   "cell_type": "code",
   "execution_count": 19,
   "metadata": {},
   "outputs": [
    {
     "data": {
      "text/plain": [
       "12    0.834106\n",
       "43    0.716897\n",
       "32    1.801322\n",
       "10    1.692525\n",
       "19    4.185114\n",
       "Name: Mortality Rate, dtype: float64"
      ]
     },
     "execution_count": 19,
     "metadata": {},
     "output_type": "execute_result"
    }
   ],
   "source": [
    "comm_covid_sorted_revised_df = comm_covid_sorted_df[\"Mortality Rate\"]\n",
    "comm_covid_sorted_revised_df.head()"
   ]
  },
  {
   "cell_type": "code",
   "execution_count": 21,
   "metadata": {},
   "outputs": [
    {
     "data": {
      "text/plain": [
       "12    (0.708, 1.561]\n",
       "43    (0.708, 1.561]\n",
       "32    (1.561, 2.406]\n",
       "10    (1.561, 2.406]\n",
       "19    (4.094, 4.939]\n",
       "27    (1.561, 2.406]\n",
       "9     (1.561, 2.406]\n",
       "40    (0.708, 1.561]\n",
       "46     (2.406, 3.25]\n",
       "22     (2.406, 3.25]\n",
       "11    (1.561, 2.406]\n",
       "4     (1.561, 2.406]\n",
       "39    (1.561, 2.406]\n",
       "47    (1.561, 2.406]\n",
       "37    (6.628, 7.472]\n",
       "34     (3.25, 4.094]\n",
       "25    (0.708, 1.561]\n",
       "6     (8.316, 9.161]\n",
       "16     (2.406, 3.25]\n",
       "21    (7.472, 8.316]\n",
       "23     (3.25, 4.094]\n",
       "49    (0.708, 1.561]\n",
       "2     (0.708, 1.561]\n",
       "36    (1.561, 2.406]\n",
       "14    (4.094, 4.939]\n",
       "24     (2.406, 3.25]\n",
       "44     (2.406, 3.25]\n",
       "28    (0.708, 1.561]\n",
       "38    (4.939, 5.783]\n",
       "20     (2.406, 3.25]\n",
       "29    (5.783, 6.628]\n",
       "48    (1.561, 2.406]\n",
       "35    (1.561, 2.406]\n",
       "3     (1.561, 2.406]\n",
       "31     (3.25, 4.094]\n",
       "15    (0.708, 1.561]\n",
       "26    (1.561, 2.406]\n",
       "30    (7.472, 8.316]\n",
       "33    (5.783, 6.628]\n",
       "41    (0.708, 1.561]\n",
       "17     (3.25, 4.094]\n",
       "18    (7.472, 8.316]\n",
       "1     (1.561, 2.406]\n",
       "13    (4.094, 4.939]\n",
       "7      (3.25, 4.094]\n",
       "5      (3.25, 4.094]\n",
       "8     (0.708, 1.561]\n",
       "45    (4.094, 4.939]\n",
       "42    (0.708, 1.561]\n",
       "0     (0.708, 1.561]\n",
       "Name: Mortality Rate, dtype: category\n",
       "Categories (10, interval[float64]): [(0.708, 1.561] < (1.561, 2.406] < (2.406, 3.25] < (3.25, 4.094] ... (5.783, 6.628] < (6.628, 7.472] < (7.472, 8.316] < (8.316, 9.161]]"
      ]
     },
     "execution_count": 21,
     "metadata": {},
     "output_type": "execute_result"
    }
   ],
   "source": [
    "comm_covid_buckets = pd.cut(comm_covid_sorted_revised_df, 10)\n",
    "comm_covid_buckets"
   ]
  },
  {
   "cell_type": "code",
   "execution_count": null,
   "metadata": {},
   "outputs": [],
   "source": [
    "#name bins\n",
    "#either create new dataframe or add columns to covid_community dataframe\n",
    "#"
   ]
  }
 ],
 "metadata": {
  "kernelspec": {
   "display_name": "Python 3",
   "language": "python",
   "name": "python3"
  },
  "language_info": {
   "codemirror_mode": {
    "name": "ipython",
    "version": 3
   },
   "file_extension": ".py",
   "mimetype": "text/x-python",
   "name": "python",
   "nbconvert_exporter": "python",
   "pygments_lexer": "ipython3",
   "version": "3.6.10"
  }
 },
 "nbformat": 4,
 "nbformat_minor": 4
}
