{
 "cells": [
  {
   "cell_type": "code",
   "execution_count": null,
   "metadata": {},
   "outputs": [],
   "source": [
    "# This is the notebook that we will use to merge/build the full dataset we will use for our analysis"
   ]
  },
  {
   "cell_type": "code",
   "execution_count": null,
   "metadata": {},
   "outputs": [],
   "source": [
    "import pandas as pd\n",
    "import csv\n",
    "\n"
   ]
  },
  {
   "cell_type": "code",
   "execution_count": null,
   "metadata": {},
   "outputs": [],
   "source": [
    "state_abv = pd.read_csv('resources/state_abbreviations.csv',names=[\"State\",\"Abv\"])\n",
    "state_abv.head()"
   ]
  },
  {
   "cell_type": "code",
   "execution_count": null,
   "metadata": {},
   "outputs": [],
   "source": [
    "covid_states = pd.read_csv(\"Resources/covid_api_data.csv\")\n",
    "\n",
    "covid_states.head()"
   ]
  },
  {
   "cell_type": "code",
   "execution_count": null,
   "metadata": {},
   "outputs": [],
   "source": [
    "covid_states = covid_states[[\"State\",\"Date\",\"Tested\",\"Positive\",\"Deaths\",\"Mortality Rate\"]]\n",
    "covid_states.head()"
   ]
  },
  {
   "cell_type": "code",
   "execution_count": null,
   "metadata": {},
   "outputs": [],
   "source": [
    "merged_covid = pd.merge (covid_states,state_abv,left_on=\"State\", right_on=\"Abv\")\n",
    "merged_covid.head()"
   ]
  },
  {
   "cell_type": "code",
   "execution_count": null,
   "metadata": {},
   "outputs": [],
   "source": [
    "happy_states = pd.read_csv(\"Resources/stateHappinessData.csv\")\n",
    "happy_states.head()"
   ]
  },
  {
   "cell_type": "code",
   "execution_count": null,
   "metadata": {},
   "outputs": [],
   "source": [
    "master_df = pd.merge (merged_covid,happy_states, left_on=\"State_y\", right_on=\"State\")\n",
    "master_df.head()"
   ]
  },
  {
   "cell_type": "code",
   "execution_count": null,
   "metadata": {},
   "outputs": [],
   "source": [
    "master_df.columns"
   ]
  },
  {
   "cell_type": "code",
   "execution_count": null,
   "metadata": {},
   "outputs": [],
   "source": [
    "master_df = master_df[['State','Abv','Date', 'Tested', 'Positive', 'Deaths', 'Mortality Rate','overall','totalScore', 'emotAndPhysRank',\n",
    "       'workEnvironRank', 'communityAndEnvironRank']]\n",
    "master_df.head()"
   ]
  },
  {
   "cell_type": "code",
   "execution_count": null,
   "metadata": {},
   "outputs": [],
   "source": [
    "master_df = master_df.rename(columns={\"overall\":\"Happiness Rank\",\n",
    "                          \"emotAndPhysRank\":\"Emotional/Physical Rank\",\n",
    "                          \"workEnvironRank\":\"Work Enviroment Rank\",\n",
    "                          \"communityAndEnvironRank\":\"Community Enviroment Rank\" })\n",
    "master_df.head()"
   ]
  },
  {
   "cell_type": "code",
   "execution_count": null,
   "metadata": {},
   "outputs": [],
   "source": [
    "master_df.to_csv('Resources/MasterData200725.csv')"
   ]
  },
  {
   "cell_type": "code",
   "execution_count": null,
   "metadata": {},
   "outputs": [],
   "source": [
    "master_df[\"Happiness Rank Inv\"] = 50 - master_df[\"Happiness Rank\"]\n",
    "master_df[\"Emotional/Physical Rank Inv\"] = 50 - master_df[\"Emotional/Physical Rank\"]\n",
    "master_df[\"Work Enviroment Rank Inv\"] = 50 - master_df[\"Work Enviroment Rank\"]\n",
    "master_df[\"Community Enviroment Rank Inv\"] = 50 - master_df[\"Community Enviroment Rank\"]\n",
    "\n",
    "master_df.head()"
   ]
  },
  {
   "cell_type": "code",
   "execution_count": null,
   "metadata": {},
   "outputs": [],
   "source": [
    "master_df.to_csv('Resources/MasterData200730.csv')"
   ]
  },
  {
   "cell_type": "code",
   "execution_count": null,
   "metadata": {},
   "outputs": [],
   "source": []
  }
 ],
 "metadata": {
  "kernelspec": {
   "display_name": "Python 3",
   "language": "python",
   "name": "python3"
  },
  "language_info": {
   "codemirror_mode": {
    "name": "ipython",
    "version": 3
   },
   "file_extension": ".py",
   "mimetype": "text/x-python",
   "name": "python",
   "nbconvert_exporter": "python",
   "pygments_lexer": "ipython3",
   "version": "3.6.10"
  }
 },
 "nbformat": 4,
 "nbformat_minor": 4
}
