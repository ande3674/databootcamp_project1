{
 "cells": [
  {
   "cell_type": "code",
   "execution_count": null,
   "metadata": {},
   "outputs": [],
   "source": [
    "import pandas as pd\n",
    "import numpy as np\n",
    "from scipy.stats import linregress"
   ]
  },
  {
   "cell_type": "code",
   "execution_count": null,
   "metadata": {},
   "outputs": [],
   "source": [
    "def regressionLine(x,y, text_place_x, text_place_y):\n",
    "\n",
    "    slope, intercept, r_value, p_value, std_err = linregress(x, y)\n",
    "\n",
    "    print(\"R-squared: %f\" % r_value**2)\n",
    "    plt.plot(x, intercept + slope*x, 'r', label='regression line')\n",
    "    plt.text(text_place_x, text_place_y, f'y = {round(slope,3)}x + {round(intercept,3)}', color = 'red', fontsize = 12)\n",
    "    plt.legend()"
   ]
  },
  {
   "cell_type": "code",
   "execution_count": null,
   "metadata": {},
   "outputs": [],
   "source": [
    "def scatterDraw(xValue, frame, color):\n",
    "    plt.figure(figsize=(14, 6))\n",
    "    plt.scatter(frame[xValue], \n",
    "            master_df[\"Mortality Rate\"], \n",
    "            color=color)\n",
    "    plt.xlabel(xValue)\n",
    "    plt.ylabel('COVID Mortality Ratio-(Positive Cases / Deaths)')"
   ]
  },
  {
   "cell_type": "code",
   "execution_count": null,
   "metadata": {},
   "outputs": [],
   "source": [
    "def stateGrouper(groupByField, num_of_bins, dataFrame):\n",
    "    dataFrame = dataFrame.sort_values(groupByField)\n",
    "    dataFrame.index = np.arange(1, len(dataFrame) + 1)\n",
    "    dataFrame[f'{groupByField}_bin'] = np.ceil(dataFrame.index / (len(dataFrame) / num_of_bins)).astype(int)\n",
    "    return dataFrame"
   ]
  },
  {
   "cell_type": "code",
   "execution_count": null,
   "metadata": {},
   "outputs": [],
   "source": [
    "def boxDraw(groupByField, num_of_bins, dataFrame):\n",
    "    fig1, ax1 = plt.subplots()\n",
    "    ticks = [*range(1,num_of_bins+1)]\n",
    "\n",
    "    collection = []\n",
    "    labels = ticks\n",
    "    for box in set(dataFrame[f'{groupByField}_bin']):\n",
    "        collection_df = dataFrame.loc[(dataFrame[f'{groupByField}_bin'] == box)]\n",
    "        collection.append(collection_df['Mortality Rate'].tolist())\n",
    "        \n",
    "    plt.boxplot(collection, patch_artist=True, flierprops=dict(marker='o', markerfacecolor='r')\n",
    "                     , medianprops= dict(color='white', linewidth=2)\n",
    "                     , boxprops = dict(facecolor = '#235574'))\n",
    "    ax1.set(facecolor = '#c0c0c0' )\n",
    "    plt.xticks(ticks, labels)\n",
    "\n",
    "    ax1.set_title(f'{groupByField} vs COVID Mortality')\n",
    "    ax1.set_ylabel('COVID Mortality Ratio-(Positive Cases / Deaths)')\n",
    "    ax1.set_xlabel(f'{groupByField}ed State Groups from Best to Worst')"
   ]
  }
 ],
 "metadata": {
  "kernelspec": {
   "display_name": "Python 3",
   "language": "python",
   "name": "python3"
  },
  "language_info": {
   "codemirror_mode": {
    "name": "ipython",
    "version": 3
   },
   "file_extension": ".py",
   "mimetype": "text/x-python",
   "name": "python",
   "nbconvert_exporter": "python",
   "pygments_lexer": "ipython3",
   "version": "3.6.10"
  }
 },
 "nbformat": 4,
 "nbformat_minor": 4
}
