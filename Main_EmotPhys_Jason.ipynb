{
 "cells": [
  {
   "cell_type": "code",
   "execution_count": null,
   "metadata": {},
   "outputs": [],
   "source": [
    "import pandas as pd\n",
    "import numpy as np\n",
    "import matplotlib.pyplot as plt\n",
    "from scipy.stats import linregress\n",
    "from functions import regressionLine, scatterDraw, stateGrouper, boxDraw"
   ]
  },
  {
   "cell_type": "code",
   "execution_count": null,
   "metadata": {},
   "outputs": [],
   "source": [
    "master_df = pd.read_csv('resources/MasterData200725.csv')\n",
    "master_df = master_df.drop(columns=\"Unnamed: 0\")\n",
    "master_df"
   ]
  },
  {
   "cell_type": "code",
   "execution_count": null,
   "metadata": {},
   "outputs": [],
   "source": [
    "scatterDraw(\"Work Enviroment Rank\", \"Mortality Rate\", master_df, 'blue')\n",
    "regressionLine(master_df[\"Work Enviroment Rank\"], \n",
    "            master_df[\"Mortality Rate\"], 20, 8)\n",
    "plt.show()"
   ]
  },
  {
   "cell_type": "code",
   "execution_count": null,
   "metadata": {},
   "outputs": [],
   "source": [
    "scatterDraw(\"Emotional/Physical Rank\", \"Mortality Rate\", master_df, 'blue')\n",
    "regressionLine(master_df[\"Emotional/Physical Rank\"], \n",
    "            master_df[\"Mortality Rate\"], 20, 8)\n",
    "plt.show()"
   ]
  },
  {
   "cell_type": "code",
   "execution_count": null,
   "metadata": {},
   "outputs": [],
   "source": [
    "scatterDraw(\"Community Enviroment Rank\",  \"Mortality Rate\", master_df, 'blue')\n",
    "regressionLine(master_df[\"Community Enviroment Rank\"], \n",
    "            master_df[\"Mortality Rate\"], 20, 8)\n",
    "plt.show()"
   ]
  },
  {
   "cell_type": "code",
   "execution_count": null,
   "metadata": {},
   "outputs": [],
   "source": [
    "#Use this to split the states in groups.  Function will sort and split into groups based on field passed to the function.\n",
    "#Also, this is flexible to change the number of state groups by changing the bin_number variable\n",
    "\n",
    "bin_number = 7\n",
    "master_df = stateGrouper('Emotional/Physical Rank', bin_number, master_df)\n",
    "master_df = stateGrouper('Work Enviroment Rank', bin_number, master_df)\n",
    "master_df = stateGrouper('Community Enviroment Rank', bin_number, master_df)\n",
    "master_df.head()"
   ]
  },
  {
   "cell_type": "code",
   "execution_count": null,
   "metadata": {},
   "outputs": [],
   "source": [
    "#This will draw the boxplots for any previously binned collection of data at the field level.\n",
    "box = boxDraw('Emotional/Physical Rank', bin_number, master_df)\n",
    "box2 = boxDraw('Work Enviroment Rank', bin_number, master_df)\n",
    "box3 = boxDraw('Community Enviroment Rank', bin_number, master_df)\n",
    "plt.show()"
   ]
  },
  {
   "cell_type": "code",
   "execution_count": null,
   "metadata": {},
   "outputs": [],
   "source": [
    "#I will check more code in tomorrow that starts the stats tests on the means of the buckets\n",
    "#to see if there is anything more we can glean from the data.\n",
    "\n",
    "emot_bin = master_df.groupby(['Emotional/Physical Rank_bin'])['Mortality Rate'].mean()\n",
    "emot_bin_df = pd.DataFrame(emot_bin)\n",
    "emot_bin_df"
   ]
  },
  {
   "cell_type": "code",
   "execution_count": null,
   "metadata": {},
   "outputs": [],
   "source": [
    "#Start t-test with binned groups of state data"
   ]
  }
 ],
 "metadata": {
  "kernelspec": {
   "display_name": "Python 3",
   "language": "python",
   "name": "python3"
  },
  "language_info": {
   "codemirror_mode": {
    "name": "ipython",
    "version": 3
   },
   "file_extension": ".py",
   "mimetype": "text/x-python",
   "name": "python",
   "nbconvert_exporter": "python",
   "pygments_lexer": "ipython3",
   "version": "3.6.10"
  }
 },
 "nbformat": 4,
 "nbformat_minor": 4
}
