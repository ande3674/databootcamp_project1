{
 "cells": [
  {
   "cell_type": "code",
   "execution_count": null,
   "metadata": {},
   "outputs": [],
   "source": [
    "import pandas as pd\n",
    "import numpy as np\n",
    "import matplotlib.pyplot as plt\n",
    "from census import Census\n",
    "from us import states\n"
   ]
  },
  {
   "cell_type": "code",
   "execution_count": null,
   "metadata": {},
   "outputs": [],
   "source": [
    "master_df = pd.read_csv('resources/MasterData200725.csv')\n",
    "master_df = master_df.drop(columns=\"Unnamed: 0\")"
   ]
  },
  {
   "cell_type": "code",
   "execution_count": null,
   "metadata": {},
   "outputs": [],
   "source": [
    "master_df[\"Happiness Rank Inverse\"] = 50 - master_df[\"Happiness Rank\"]"
   ]
  },
  {
   "cell_type": "code",
   "execution_count": null,
   "metadata": {},
   "outputs": [],
   "source": [
    "# Scatter Plot\n",
    "# Make xtick labels = State names\n",
    "# Increase figure size\n",
    "plt.figure(figsize=(14, 10))\n",
    "plt.scatter( master_df[\"Happiness Rank\"], \n",
    "            master_df[\"Mortality Rate\"], \n",
    "            c=\"purple\"\n",
    "           )\n",
    "plt.xticks(ticks=master_df[\"Happiness Rank Inverse\"], labels=master_df[\"State\"], rotation=45)\n",
    "plt.show()\n"
   ]
  },
  {
   "cell_type": "code",
   "execution_count": null,
   "metadata": {},
   "outputs": [],
   "source": [
    "#master_df = master_df.set_index('State')\n",
    "master_df['State Population'] = ''\n"
   ]
  },
  {
   "cell_type": "code",
   "execution_count": null,
   "metadata": {},
   "outputs": [],
   "source": [
    "\n",
    "c = Census(\"661e1f2142e1cf49fc3ccb14fbef9446886ea826\")\n",
    "state_pop_data = c.acs5.get(('NAME', 'B01003_001E'), {'for': 'state:*'})\n",
    "\n",
    "for item in state_pop_data:\n",
    "    pop = item['B01003_001E']\n",
    "    master_df.loc[item['NAME'], \"State Population\"] = pop\n",
    "\n",
    "master_df.head(10)"
   ]
  },
  {
   "cell_type": "code",
   "execution_count": null,
   "metadata": {},
   "outputs": [],
   "source": [
    "deaths_per_pop = master_df[\"Deaths\"] / master_df[\"State Population\"].astype('float64') * 1000000\n",
    "deaths_per_pop = deaths_per_pop.dropna()\n",
    "master_df = master_df.dropna()\n",
    "\n"
   ]
  },
  {
   "cell_type": "code",
   "execution_count": null,
   "metadata": {},
   "outputs": [],
   "source": [
    "plt.figure(figsize=(15, 11))\n",
    "plt.scatter( master_df[\"Happiness Rank\"], \n",
    "             deaths_per_pop, \n",
    "             c=\"blue\"\n",
    "           )\n",
    "plt.show()"
   ]
  },
  {
   "cell_type": "code",
   "execution_count": null,
   "metadata": {},
   "outputs": [],
   "source": []
  }
 ],
 "metadata": {
  "kernelspec": {
   "display_name": "Python 3",
   "language": "python",
   "name": "python3"
  },
  "language_info": {
   "codemirror_mode": {
    "name": "ipython",
    "version": 3
   },
   "file_extension": ".py",
   "mimetype": "text/x-python",
   "name": "python",
   "nbconvert_exporter": "python",
   "pygments_lexer": "ipython3",
   "version": "3.6.10"
  }
 },
 "nbformat": 4,
 "nbformat_minor": 4
}
